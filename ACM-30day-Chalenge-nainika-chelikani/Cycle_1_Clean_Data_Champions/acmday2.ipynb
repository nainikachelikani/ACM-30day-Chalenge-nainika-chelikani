{
 "cells": [
  {
   "cell_type": "code",
   "execution_count": 1,
   "id": "3044345c-6e82-4a15-b136-fa4fd9929b5c",
   "metadata": {},
   "outputs": [
    {
     "name": "stdout",
     "output_type": "stream",
     "text": [
      "      EmployeeID  Age      Gender    Country            JobRole Department  \\\n",
      "0           1001   50        Male         UK    Sales Associate         HR   \n",
      "1           1002   36        Male    Germany  Software Engineer         IT   \n",
      "2           1003   29  Non-binary      India           IT Admin         IT   \n",
      "3           1004   42        Male  Australia      HR Specialist         IT   \n",
      "4           1005   40        Male     Brazil   Customer Support    Support   \n",
      "...          ...  ...         ...        ...                ...        ...   \n",
      "2995        3996   28      Female     Brazil  Marketing Manager      Sales   \n",
      "2996        3997   24        Male     Brazil   Customer Support  Marketing   \n",
      "2997        3998   22      Female     Canada  Marketing Manager  Marketing   \n",
      "2998        3999   57  Non-binary  Australia     Data Scientist         HR   \n",
      "2999        4000   46  Non-binary      India  Software Engineer         IT   \n",
      "\n",
      "      YearsAtCompany  WorkHoursPerWeek RemoteWork  BurnoutLevel  ...  \\\n",
      "0                 14                47         No          3.37  ...   \n",
      "1                  1                59     Hybrid          7.39  ...   \n",
      "2                 13                59     Hybrid          7.10  ...   \n",
      "3                 15                31        Yes          4.18  ...   \n",
      "4                  6                34        Yes          8.28  ...   \n",
      "...              ...               ...        ...           ...  ...   \n",
      "2995              18                46         No          2.86  ...   \n",
      "2996              14                31         No          2.43  ...   \n",
      "2997               0                38         No          6.87  ...   \n",
      "2998               2                41         No          3.62  ...   \n",
      "2999              17                48         No          9.77  ...   \n",
      "\n",
      "      CommuteTime  HasMentalHealthSupport  ManagerSupportScore  \\\n",
      "0             117                      No                 3.15   \n",
      "1               8                     Yes                 4.40   \n",
      "2              75                      No                 3.63   \n",
      "3              43                     Yes                 4.50   \n",
      "4              58                     Yes                 5.51   \n",
      "...           ...                     ...                  ...   \n",
      "2995            4                     Yes                 6.97   \n",
      "2996            1                     Yes                 5.58   \n",
      "2997           25                      No                 3.81   \n",
      "2998           24                      No                 9.72   \n",
      "2999           49                      No                 8.21   \n",
      "\n",
      "      HasTherapyAccess  MentalHealthDaysOff  SalaryRange WorkLifeBalanceScore  \\\n",
      "0                  Yes                    8      40K-60K                 8.82   \n",
      "1                  Yes                    4     80K-100K                 2.80   \n",
      "2                   No                    6     80K-100K                 7.28   \n",
      "3                  Yes                    9      60K-80K                 1.31   \n",
      "4                  Yes                    6         <40K                 1.17   \n",
      "...                ...                  ...          ...                  ...   \n",
      "2995                No                    1     80K-100K                 7.71   \n",
      "2996               Yes                    0      60K-80K                 3.76   \n",
      "2997                No                    0      40K-60K                 3.03   \n",
      "2998                No                    3        100K+                 6.02   \n",
      "2999                No                    7      60K-80K                 7.89   \n",
      "\n",
      "      TeamSize CareerGrowthScore  BurnoutRisk  \n",
      "0            6              9.20            0  \n",
      "1           45              8.46            1  \n",
      "2            7              7.96            1  \n",
      "3           11              8.90            0  \n",
      "4           18              8.88            1  \n",
      "...        ...               ...          ...  \n",
      "2995        21              7.70            0  \n",
      "2996         2              2.59            0  \n",
      "2997         2              6.95            0  \n",
      "2998        37              9.06            0  \n",
      "2999        37              1.09            1  \n",
      "\n",
      "[3000 rows x 25 columns]\n"
     ]
    }
   ],
   "source": [
    "import pandas as pd\n",
    "data=pd.read_csv('C:/Users/nainika chelikani/Desktop/acm s3/burnout dataset/mental_health_workplace_survey.csv')\n",
    "print(data)"
   ]
  },
  {
   "cell_type": "code",
   "execution_count": 25,
   "id": "e503a048-ae26-4e2d-be67-f833a3cec583",
   "metadata": {},
   "outputs": [
    {
     "ename": "KeyError",
     "evalue": "\"None of [Index(['RemoteWork', 'Gender', 'Country', 'JobRole'], dtype='object')] are in the [columns]\"",
     "output_type": "error",
     "traceback": [
      "\u001b[1;31m---------------------------------------------------------------------------\u001b[0m",
      "\u001b[1;31mKeyError\u001b[0m                                  Traceback (most recent call last)",
      "Cell \u001b[1;32mIn[25], line 2\u001b[0m\n\u001b[0;32m      1\u001b[0m onehot_colns \u001b[38;5;241m=\u001b[39m [\u001b[38;5;124m'\u001b[39m\u001b[38;5;124mRemoteWork\u001b[39m\u001b[38;5;124m'\u001b[39m, \u001b[38;5;124m'\u001b[39m\u001b[38;5;124mGender\u001b[39m\u001b[38;5;124m'\u001b[39m, \u001b[38;5;124m'\u001b[39m\u001b[38;5;124mCountry\u001b[39m\u001b[38;5;124m'\u001b[39m, \u001b[38;5;124m'\u001b[39m\u001b[38;5;124mJobRole\u001b[39m\u001b[38;5;124m'\u001b[39m]\n\u001b[1;32m----> 2\u001b[0m data \u001b[38;5;241m=\u001b[39m pd\u001b[38;5;241m.\u001b[39mget_dummies(data, columns\u001b[38;5;241m=\u001b[39monehot_colns)\n",
      "File \u001b[1;32m~\\anaconda3\\Lib\\site-packages\\pandas\\core\\reshape\\encoding.py:169\u001b[0m, in \u001b[0;36mget_dummies\u001b[1;34m(data, prefix, prefix_sep, dummy_na, columns, sparse, drop_first, dtype)\u001b[0m\n\u001b[0;32m    167\u001b[0m     \u001b[38;5;28;01mraise\u001b[39;00m \u001b[38;5;167;01mTypeError\u001b[39;00m(\u001b[38;5;124m\"\u001b[39m\u001b[38;5;124mInput must be a list-like for parameter `columns`\u001b[39m\u001b[38;5;124m\"\u001b[39m)\n\u001b[0;32m    168\u001b[0m \u001b[38;5;28;01melse\u001b[39;00m:\n\u001b[1;32m--> 169\u001b[0m     data_to_encode \u001b[38;5;241m=\u001b[39m data[columns]\n\u001b[0;32m    171\u001b[0m \u001b[38;5;66;03m# validate prefixes and separator to avoid silently dropping cols\u001b[39;00m\n\u001b[0;32m    172\u001b[0m \u001b[38;5;28;01mdef\u001b[39;00m\u001b[38;5;250m \u001b[39m\u001b[38;5;21mcheck_len\u001b[39m(item, name: \u001b[38;5;28mstr\u001b[39m):\n",
      "File \u001b[1;32m~\\anaconda3\\Lib\\site-packages\\pandas\\core\\frame.py:4108\u001b[0m, in \u001b[0;36mDataFrame.__getitem__\u001b[1;34m(self, key)\u001b[0m\n\u001b[0;32m   4106\u001b[0m     \u001b[38;5;28;01mif\u001b[39;00m is_iterator(key):\n\u001b[0;32m   4107\u001b[0m         key \u001b[38;5;241m=\u001b[39m \u001b[38;5;28mlist\u001b[39m(key)\n\u001b[1;32m-> 4108\u001b[0m     indexer \u001b[38;5;241m=\u001b[39m \u001b[38;5;28mself\u001b[39m\u001b[38;5;241m.\u001b[39mcolumns\u001b[38;5;241m.\u001b[39m_get_indexer_strict(key, \u001b[38;5;124m\"\u001b[39m\u001b[38;5;124mcolumns\u001b[39m\u001b[38;5;124m\"\u001b[39m)[\u001b[38;5;241m1\u001b[39m]\n\u001b[0;32m   4110\u001b[0m \u001b[38;5;66;03m# take() does not accept boolean indexers\u001b[39;00m\n\u001b[0;32m   4111\u001b[0m \u001b[38;5;28;01mif\u001b[39;00m \u001b[38;5;28mgetattr\u001b[39m(indexer, \u001b[38;5;124m\"\u001b[39m\u001b[38;5;124mdtype\u001b[39m\u001b[38;5;124m\"\u001b[39m, \u001b[38;5;28;01mNone\u001b[39;00m) \u001b[38;5;241m==\u001b[39m \u001b[38;5;28mbool\u001b[39m:\n",
      "File \u001b[1;32m~\\anaconda3\\Lib\\site-packages\\pandas\\core\\indexes\\base.py:6200\u001b[0m, in \u001b[0;36mIndex._get_indexer_strict\u001b[1;34m(self, key, axis_name)\u001b[0m\n\u001b[0;32m   6197\u001b[0m \u001b[38;5;28;01melse\u001b[39;00m:\n\u001b[0;32m   6198\u001b[0m     keyarr, indexer, new_indexer \u001b[38;5;241m=\u001b[39m \u001b[38;5;28mself\u001b[39m\u001b[38;5;241m.\u001b[39m_reindex_non_unique(keyarr)\n\u001b[1;32m-> 6200\u001b[0m \u001b[38;5;28mself\u001b[39m\u001b[38;5;241m.\u001b[39m_raise_if_missing(keyarr, indexer, axis_name)\n\u001b[0;32m   6202\u001b[0m keyarr \u001b[38;5;241m=\u001b[39m \u001b[38;5;28mself\u001b[39m\u001b[38;5;241m.\u001b[39mtake(indexer)\n\u001b[0;32m   6203\u001b[0m \u001b[38;5;28;01mif\u001b[39;00m \u001b[38;5;28misinstance\u001b[39m(key, Index):\n\u001b[0;32m   6204\u001b[0m     \u001b[38;5;66;03m# GH 42790 - Preserve name from an Index\u001b[39;00m\n",
      "File \u001b[1;32m~\\anaconda3\\Lib\\site-packages\\pandas\\core\\indexes\\base.py:6249\u001b[0m, in \u001b[0;36mIndex._raise_if_missing\u001b[1;34m(self, key, indexer, axis_name)\u001b[0m\n\u001b[0;32m   6247\u001b[0m \u001b[38;5;28;01mif\u001b[39;00m nmissing:\n\u001b[0;32m   6248\u001b[0m     \u001b[38;5;28;01mif\u001b[39;00m nmissing \u001b[38;5;241m==\u001b[39m \u001b[38;5;28mlen\u001b[39m(indexer):\n\u001b[1;32m-> 6249\u001b[0m         \u001b[38;5;28;01mraise\u001b[39;00m \u001b[38;5;167;01mKeyError\u001b[39;00m(\u001b[38;5;124mf\u001b[39m\u001b[38;5;124m\"\u001b[39m\u001b[38;5;124mNone of [\u001b[39m\u001b[38;5;132;01m{\u001b[39;00mkey\u001b[38;5;132;01m}\u001b[39;00m\u001b[38;5;124m] are in the [\u001b[39m\u001b[38;5;132;01m{\u001b[39;00maxis_name\u001b[38;5;132;01m}\u001b[39;00m\u001b[38;5;124m]\u001b[39m\u001b[38;5;124m\"\u001b[39m)\n\u001b[0;32m   6251\u001b[0m     not_found \u001b[38;5;241m=\u001b[39m \u001b[38;5;28mlist\u001b[39m(ensure_index(key)[missing_mask\u001b[38;5;241m.\u001b[39mnonzero()[\u001b[38;5;241m0\u001b[39m]]\u001b[38;5;241m.\u001b[39munique())\n\u001b[0;32m   6252\u001b[0m     \u001b[38;5;28;01mraise\u001b[39;00m \u001b[38;5;167;01mKeyError\u001b[39;00m(\u001b[38;5;124mf\u001b[39m\u001b[38;5;124m\"\u001b[39m\u001b[38;5;132;01m{\u001b[39;00mnot_found\u001b[38;5;132;01m}\u001b[39;00m\u001b[38;5;124m not in index\u001b[39m\u001b[38;5;124m\"\u001b[39m)\n",
      "\u001b[1;31mKeyError\u001b[0m: \"None of [Index(['RemoteWork', 'Gender', 'Country', 'JobRole'], dtype='object')] are in the [columns]\""
     ]
    }
   ],
   "source": [
    "onehot_colns = ['RemoteWork', 'Gender', 'Country', 'JobRole']\n",
    "data = pd.get_dummies(data, columns=onehot_colns)\n"
   ]
  },
  {
   "cell_type": "code",
   "execution_count": 14,
   "id": "a89fc5dd-fb1c-469e-a9a9-4a1c3dabfcb6",
   "metadata": {},
   "outputs": [],
   "source": [
    "from sklearn.preprocessing import OrdinalEncoder\n",
    "salary_order = [['<40K', '40K-60K', '60K-80K', '80K-100K', '100K+']]\n",
    "ordinal_encoder = OrdinalEncoder(categories=salary_order)\n",
    "data[['SalaryRange']] = ordinal_encoder.fit_transform(data[['SalaryRange']])\n"
   ]
  },
  {
   "cell_type": "code",
   "execution_count": 26,
   "id": "4bdc148e-d59c-4576-bbed-a69362692a70",
   "metadata": {},
   "outputs": [
    {
     "name": "stdout",
     "output_type": "stream",
     "text": [
      "      EmployeeID  Age  YearsAtCompany  WorkHoursPerWeek  BurnoutLevel  \\\n",
      "0           1001   50              14                47          3.37   \n",
      "1           1002   36               1                59          7.39   \n",
      "2           1003   29              13                59          7.10   \n",
      "3           1004   42              15                31          4.18   \n",
      "4           1005   40               6                34          8.28   \n",
      "...          ...  ...             ...               ...           ...   \n",
      "2995        3996   28              18                46          2.86   \n",
      "2996        3997   24              14                31          2.43   \n",
      "2997        3998   22               0                38          6.87   \n",
      "2998        3999   57               2                41          3.62   \n",
      "2999        4000   46              17                48          9.77   \n",
      "\n",
      "      JobSatisfaction  StressLevel  ProductivityScore  SleepHours  \\\n",
      "0                5.06         9.47               4.16         7.0   \n",
      "1                2.00         5.65               3.74         7.2   \n",
      "2                7.17         5.70               8.80         5.2   \n",
      "3                3.76         6.40               4.69         8.7   \n",
      "4                2.34         3.41               2.12         4.2   \n",
      "...               ...          ...                ...         ...   \n",
      "2995             5.18         4.98               3.46         5.8   \n",
      "2996             3.68         3.47               6.99         4.9   \n",
      "2997             7.53         2.19               2.32         7.6   \n",
      "2998             9.21         9.50               7.07         8.4   \n",
      "2999             4.71         2.18               1.32         4.4   \n",
      "\n",
      "      PhysicalActivityHrs  ...  JobRole_Marketing Manager  \\\n",
      "0                     7.9  ...                      False   \n",
      "1                     9.0  ...                      False   \n",
      "2                     9.7  ...                      False   \n",
      "3                     5.8  ...                      False   \n",
      "4                     3.3  ...                      False   \n",
      "...                   ...  ...                        ...   \n",
      "2995                  8.6  ...                       True   \n",
      "2996                  1.4  ...                      False   \n",
      "2997                  8.5  ...                       True   \n",
      "2998                  0.2  ...                      False   \n",
      "2999                  7.5  ...                      False   \n",
      "\n",
      "      JobRole_Project Manager  JobRole_Sales Associate  \\\n",
      "0                       False                     True   \n",
      "1                       False                    False   \n",
      "2                       False                    False   \n",
      "3                       False                    False   \n",
      "4                       False                    False   \n",
      "...                       ...                      ...   \n",
      "2995                    False                    False   \n",
      "2996                    False                    False   \n",
      "2997                    False                    False   \n",
      "2998                    False                    False   \n",
      "2999                    False                    False   \n",
      "\n",
      "      JobRole_Software Engineer  Department_Engineering  Department_HR  \\\n",
      "0                         False                   False           True   \n",
      "1                          True                   False          False   \n",
      "2                         False                   False          False   \n",
      "3                         False                   False          False   \n",
      "4                         False                   False          False   \n",
      "...                         ...                     ...            ...   \n",
      "2995                      False                   False          False   \n",
      "2996                      False                   False          False   \n",
      "2997                      False                   False          False   \n",
      "2998                      False                   False           True   \n",
      "2999                       True                   False          False   \n",
      "\n",
      "      Department_IT  Department_Marketing  Department_Sales  \\\n",
      "0             False                 False             False   \n",
      "1              True                 False             False   \n",
      "2              True                 False             False   \n",
      "3              True                 False             False   \n",
      "4             False                 False             False   \n",
      "...             ...                   ...               ...   \n",
      "2995          False                 False              True   \n",
      "2996          False                  True             False   \n",
      "2997          False                  True             False   \n",
      "2998          False                 False             False   \n",
      "2999           True                 False             False   \n",
      "\n",
      "      Department_Support  \n",
      "0                  False  \n",
      "1                  False  \n",
      "2                  False  \n",
      "3                  False  \n",
      "4                   True  \n",
      "...                  ...  \n",
      "2995               False  \n",
      "2996               False  \n",
      "2997               False  \n",
      "2998               False  \n",
      "2999               False  \n",
      "\n",
      "[3000 rows x 48 columns]\n"
     ]
    }
   ],
   "source": [
    "print(data) "
   ]
  },
  {
   "cell_type": "code",
   "execution_count": 26,
   "id": "507d0d36-8bce-4eb4-b571-dc9de228e803",
   "metadata": {},
   "outputs": [
    {
     "ename": "KeyError",
     "evalue": "\"None of [Index(['Department'], dtype='object')] are in the [columns]\"",
     "output_type": "error",
     "traceback": [
      "\u001b[1;31m---------------------------------------------------------------------------\u001b[0m",
      "\u001b[1;31mKeyError\u001b[0m                                  Traceback (most recent call last)",
      "Cell \u001b[1;32mIn[26], line 2\u001b[0m\n\u001b[0;32m      1\u001b[0m onehot_cols \u001b[38;5;241m=\u001b[39m [\u001b[38;5;124m'\u001b[39m\u001b[38;5;124mDepartment\u001b[39m\u001b[38;5;124m'\u001b[39m]\n\u001b[1;32m----> 2\u001b[0m data \u001b[38;5;241m=\u001b[39m pd\u001b[38;5;241m.\u001b[39mget_dummies(data, columns\u001b[38;5;241m=\u001b[39monehot_cols)\n\u001b[0;32m      3\u001b[0m \u001b[38;5;28mprint\u001b[39m(data)\n",
      "File \u001b[1;32m~\\anaconda3\\Lib\\site-packages\\pandas\\core\\reshape\\encoding.py:169\u001b[0m, in \u001b[0;36mget_dummies\u001b[1;34m(data, prefix, prefix_sep, dummy_na, columns, sparse, drop_first, dtype)\u001b[0m\n\u001b[0;32m    167\u001b[0m     \u001b[38;5;28;01mraise\u001b[39;00m \u001b[38;5;167;01mTypeError\u001b[39;00m(\u001b[38;5;124m\"\u001b[39m\u001b[38;5;124mInput must be a list-like for parameter `columns`\u001b[39m\u001b[38;5;124m\"\u001b[39m)\n\u001b[0;32m    168\u001b[0m \u001b[38;5;28;01melse\u001b[39;00m:\n\u001b[1;32m--> 169\u001b[0m     data_to_encode \u001b[38;5;241m=\u001b[39m data[columns]\n\u001b[0;32m    171\u001b[0m \u001b[38;5;66;03m# validate prefixes and separator to avoid silently dropping cols\u001b[39;00m\n\u001b[0;32m    172\u001b[0m \u001b[38;5;28;01mdef\u001b[39;00m\u001b[38;5;250m \u001b[39m\u001b[38;5;21mcheck_len\u001b[39m(item, name: \u001b[38;5;28mstr\u001b[39m):\n",
      "File \u001b[1;32m~\\anaconda3\\Lib\\site-packages\\pandas\\core\\frame.py:4108\u001b[0m, in \u001b[0;36mDataFrame.__getitem__\u001b[1;34m(self, key)\u001b[0m\n\u001b[0;32m   4106\u001b[0m     \u001b[38;5;28;01mif\u001b[39;00m is_iterator(key):\n\u001b[0;32m   4107\u001b[0m         key \u001b[38;5;241m=\u001b[39m \u001b[38;5;28mlist\u001b[39m(key)\n\u001b[1;32m-> 4108\u001b[0m     indexer \u001b[38;5;241m=\u001b[39m \u001b[38;5;28mself\u001b[39m\u001b[38;5;241m.\u001b[39mcolumns\u001b[38;5;241m.\u001b[39m_get_indexer_strict(key, \u001b[38;5;124m\"\u001b[39m\u001b[38;5;124mcolumns\u001b[39m\u001b[38;5;124m\"\u001b[39m)[\u001b[38;5;241m1\u001b[39m]\n\u001b[0;32m   4110\u001b[0m \u001b[38;5;66;03m# take() does not accept boolean indexers\u001b[39;00m\n\u001b[0;32m   4111\u001b[0m \u001b[38;5;28;01mif\u001b[39;00m \u001b[38;5;28mgetattr\u001b[39m(indexer, \u001b[38;5;124m\"\u001b[39m\u001b[38;5;124mdtype\u001b[39m\u001b[38;5;124m\"\u001b[39m, \u001b[38;5;28;01mNone\u001b[39;00m) \u001b[38;5;241m==\u001b[39m \u001b[38;5;28mbool\u001b[39m:\n",
      "File \u001b[1;32m~\\anaconda3\\Lib\\site-packages\\pandas\\core\\indexes\\base.py:6200\u001b[0m, in \u001b[0;36mIndex._get_indexer_strict\u001b[1;34m(self, key, axis_name)\u001b[0m\n\u001b[0;32m   6197\u001b[0m \u001b[38;5;28;01melse\u001b[39;00m:\n\u001b[0;32m   6198\u001b[0m     keyarr, indexer, new_indexer \u001b[38;5;241m=\u001b[39m \u001b[38;5;28mself\u001b[39m\u001b[38;5;241m.\u001b[39m_reindex_non_unique(keyarr)\n\u001b[1;32m-> 6200\u001b[0m \u001b[38;5;28mself\u001b[39m\u001b[38;5;241m.\u001b[39m_raise_if_missing(keyarr, indexer, axis_name)\n\u001b[0;32m   6202\u001b[0m keyarr \u001b[38;5;241m=\u001b[39m \u001b[38;5;28mself\u001b[39m\u001b[38;5;241m.\u001b[39mtake(indexer)\n\u001b[0;32m   6203\u001b[0m \u001b[38;5;28;01mif\u001b[39;00m \u001b[38;5;28misinstance\u001b[39m(key, Index):\n\u001b[0;32m   6204\u001b[0m     \u001b[38;5;66;03m# GH 42790 - Preserve name from an Index\u001b[39;00m\n",
      "File \u001b[1;32m~\\anaconda3\\Lib\\site-packages\\pandas\\core\\indexes\\base.py:6249\u001b[0m, in \u001b[0;36mIndex._raise_if_missing\u001b[1;34m(self, key, indexer, axis_name)\u001b[0m\n\u001b[0;32m   6247\u001b[0m \u001b[38;5;28;01mif\u001b[39;00m nmissing:\n\u001b[0;32m   6248\u001b[0m     \u001b[38;5;28;01mif\u001b[39;00m nmissing \u001b[38;5;241m==\u001b[39m \u001b[38;5;28mlen\u001b[39m(indexer):\n\u001b[1;32m-> 6249\u001b[0m         \u001b[38;5;28;01mraise\u001b[39;00m \u001b[38;5;167;01mKeyError\u001b[39;00m(\u001b[38;5;124mf\u001b[39m\u001b[38;5;124m\"\u001b[39m\u001b[38;5;124mNone of [\u001b[39m\u001b[38;5;132;01m{\u001b[39;00mkey\u001b[38;5;132;01m}\u001b[39;00m\u001b[38;5;124m] are in the [\u001b[39m\u001b[38;5;132;01m{\u001b[39;00maxis_name\u001b[38;5;132;01m}\u001b[39;00m\u001b[38;5;124m]\u001b[39m\u001b[38;5;124m\"\u001b[39m)\n\u001b[0;32m   6251\u001b[0m     not_found \u001b[38;5;241m=\u001b[39m \u001b[38;5;28mlist\u001b[39m(ensure_index(key)[missing_mask\u001b[38;5;241m.\u001b[39mnonzero()[\u001b[38;5;241m0\u001b[39m]]\u001b[38;5;241m.\u001b[39munique())\n\u001b[0;32m   6252\u001b[0m     \u001b[38;5;28;01mraise\u001b[39;00m \u001b[38;5;167;01mKeyError\u001b[39;00m(\u001b[38;5;124mf\u001b[39m\u001b[38;5;124m\"\u001b[39m\u001b[38;5;132;01m{\u001b[39;00mnot_found\u001b[38;5;132;01m}\u001b[39;00m\u001b[38;5;124m not in index\u001b[39m\u001b[38;5;124m\"\u001b[39m)\n",
      "\u001b[1;31mKeyError\u001b[0m: \"None of [Index(['Department'], dtype='object')] are in the [columns]\""
     ]
    }
   ],
   "source": [
    "onehot_cols = ['Department']\n",
    "data = pd.get_dummies(data, columns=onehot_cols)\n",
    "print(data)\n"
   ]
  },
  {
   "cell_type": "code",
   "execution_count": 14,
   "id": "8d835508-4aa7-426b-a512-ddc8cb0734b3",
   "metadata": {},
   "outputs": [],
   "source": [
    "# Binary map for 'Yes'/'No'\n",
    "binary_map = {'Yes': 1, 'No': 0}\n",
    "\n",
    "data['HasMentalHealthSupport'] = data['HasMentalHealthSupport'].map(binary_map)\n",
    "data['HasTherapyAccess'] = data['HasTherapyAccess'].map(binary_map)\n"
   ]
  },
  {
   "cell_type": "code",
   "execution_count": 27,
   "id": "c0527cc3-8a7b-49e8-bbf0-2132038667e5",
   "metadata": {},
   "outputs": [
    {
     "name": "stdout",
     "output_type": "stream",
     "text": [
      "   EmployeeID  Age  YearsAtCompany  WorkHoursPerWeek  BurnoutLevel  \\\n",
      "0        1001   50              14                47          3.37   \n",
      "1        1002   36               1                59          7.39   \n",
      "2        1003   29              13                59          7.10   \n",
      "3        1004   42              15                31          4.18   \n",
      "4        1005   40               6                34          8.28   \n",
      "\n",
      "   JobSatisfaction  StressLevel  ProductivityScore  SleepHours  \\\n",
      "0             5.06         9.47               4.16         7.0   \n",
      "1             2.00         5.65               3.74         7.2   \n",
      "2             7.17         5.70               8.80         5.2   \n",
      "3             3.76         6.40               4.69         8.7   \n",
      "4             2.34         3.41               2.12         4.2   \n",
      "\n",
      "   PhysicalActivityHrs  ...  Country_UK Country_USA  JobRole_Customer Support  \\\n",
      "0                  7.9  ...        True       False                     False   \n",
      "1                  9.0  ...       False       False                     False   \n",
      "2                  9.7  ...       False       False                     False   \n",
      "3                  5.8  ...       False       False                     False   \n",
      "4                  3.3  ...       False       False                      True   \n",
      "\n",
      "  JobRole_Data Scientist  JobRole_HR Specialist  JobRole_IT Admin  \\\n",
      "0                  False                  False             False   \n",
      "1                  False                  False             False   \n",
      "2                  False                  False              True   \n",
      "3                  False                   True             False   \n",
      "4                  False                  False             False   \n",
      "\n",
      "   JobRole_Marketing Manager  JobRole_Project Manager  \\\n",
      "0                      False                    False   \n",
      "1                      False                    False   \n",
      "2                      False                    False   \n",
      "3                      False                    False   \n",
      "4                      False                    False   \n",
      "\n",
      "   JobRole_Sales Associate  JobRole_Software Engineer  \n",
      "0                     True                      False  \n",
      "1                    False                       True  \n",
      "2                    False                      False  \n",
      "3                    False                      False  \n",
      "4                    False                      False  \n",
      "\n",
      "[5 rows x 48 columns]\n"
     ]
    }
   ],
   "source": [
    "print(data.head())"
   ]
  },
  {
   "cell_type": "code",
   "execution_count": 32,
   "id": "c15ad73a-011d-4321-b8ca-a10ebd105217",
   "metadata": {},
   "outputs": [],
   "source": [
    "from sklearn.preprocessing import StandardScaler\n",
    "numerical_cols = [\n",
    "    'Age', 'YearsAtCompany', 'WorkHoursPerWeek', 'JobSatisfaction',\n",
    "    'StressLevel', 'ProductivityScore', 'SleepHours', 'PhysicalActivityHrs',\n",
    "    'CommuteTime', 'ManagerSupportScore', 'MentalHealthDaysOff',\n",
    "    'WorkLifeBalanceScore', 'TeamSize', 'CareerGrowthScore'\n",
    "]\n",
    "scaler = StandardScaler()\n",
    "data[numerical_cols] = scaler.fit_transform(data[numerical_cols])\n"
   ]
  },
  {
   "cell_type": "code",
   "execution_count": 33,
   "id": "5d78bcbc-d271-4607-9155-6912fbad037d",
   "metadata": {},
   "outputs": [
    {
     "name": "stdout",
     "output_type": "stream",
     "text": [
      "   EmployeeID       Age  YearsAtCompany  WorkHoursPerWeek  BurnoutLevel  \\\n",
      "0        1001  0.835099        0.646445          0.293989          3.37   \n",
      "1        1002 -0.436487       -1.508004          1.707398          7.39   \n",
      "2        1003 -1.072280        0.480718          1.707398          7.10   \n",
      "3        1004  0.108478        0.812172         -1.590556          4.18   \n",
      "4        1005 -0.073177       -0.679370         -1.237204          8.28   \n",
      "\n",
      "   JobSatisfaction  StressLevel  ProductivityScore  SleepHours  \\\n",
      "0        -0.145528     1.519164          -0.521468    0.319776   \n",
      "1        -1.325175     0.051725          -0.682562    0.458507   \n",
      "2         0.667888     0.070933           1.258235   -0.928806   \n",
      "3        -0.646685     0.339835          -0.318183    1.498992   \n",
      "4        -1.194103    -0.808762          -1.303924   -1.622463   \n",
      "\n",
      "   PhysicalActivityHrs  ...  JobRole_Marketing Manager  \\\n",
      "0             1.003164  ...                      False   \n",
      "1             1.387705  ...                      False   \n",
      "2             1.632414  ...                      False   \n",
      "3             0.269039  ...                      False   \n",
      "4            -0.604919  ...                      False   \n",
      "\n",
      "   JobRole_Project Manager  JobRole_Sales Associate  \\\n",
      "0                    False                     True   \n",
      "1                    False                    False   \n",
      "2                    False                    False   \n",
      "3                    False                    False   \n",
      "4                    False                    False   \n",
      "\n",
      "   JobRole_Software Engineer  Department_Engineering  Department_HR  \\\n",
      "0                      False                   False           True   \n",
      "1                       True                   False          False   \n",
      "2                      False                   False          False   \n",
      "3                      False                   False          False   \n",
      "4                      False                   False          False   \n",
      "\n",
      "   Department_IT  Department_Marketing  Department_Sales  Department_Support  \n",
      "0          False                 False             False               False  \n",
      "1           True                 False             False               False  \n",
      "2           True                 False             False               False  \n",
      "3           True                 False             False               False  \n",
      "4          False                 False             False                True  \n",
      "\n",
      "[5 rows x 48 columns]\n"
     ]
    }
   ],
   "source": [
    "print(data.head())"
   ]
  },
  {
   "cell_type": "code",
   "execution_count": 35,
   "id": "bfd78360-8ed2-471c-8d2d-c11e4204c59e",
   "metadata": {},
   "outputs": [],
   "source": [
    "# Convert all boolean columns to integers\n",
    "data = data.astype({col: 'int' for col in data.select_dtypes(include='bool').columns})\n"
   ]
  },
  {
   "cell_type": "code",
   "execution_count": 28,
   "id": "507f4c30-bf49-467b-90a2-6dfd0b432de3",
   "metadata": {},
   "outputs": [
    {
     "name": "stdout",
     "output_type": "stream",
     "text": [
      "   EmployeeID  Age  YearsAtCompany  WorkHoursPerWeek  BurnoutLevel  \\\n",
      "0        1001   50              14                47          3.37   \n",
      "1        1002   36               1                59          7.39   \n",
      "2        1003   29              13                59          7.10   \n",
      "3        1004   42              15                31          4.18   \n",
      "4        1005   40               6                34          8.28   \n",
      "\n",
      "   JobSatisfaction  StressLevel  ProductivityScore  SleepHours  \\\n",
      "0             5.06         9.47               4.16         7.0   \n",
      "1             2.00         5.65               3.74         7.2   \n",
      "2             7.17         5.70               8.80         5.2   \n",
      "3             3.76         6.40               4.69         8.7   \n",
      "4             2.34         3.41               2.12         4.2   \n",
      "\n",
      "   PhysicalActivityHrs  ...  Country_UK Country_USA  JobRole_Customer Support  \\\n",
      "0                  7.9  ...        True       False                     False   \n",
      "1                  9.0  ...       False       False                     False   \n",
      "2                  9.7  ...       False       False                     False   \n",
      "3                  5.8  ...       False       False                     False   \n",
      "4                  3.3  ...       False       False                      True   \n",
      "\n",
      "  JobRole_Data Scientist  JobRole_HR Specialist  JobRole_IT Admin  \\\n",
      "0                  False                  False             False   \n",
      "1                  False                  False             False   \n",
      "2                  False                  False              True   \n",
      "3                  False                   True             False   \n",
      "4                  False                  False             False   \n",
      "\n",
      "   JobRole_Marketing Manager  JobRole_Project Manager  \\\n",
      "0                      False                    False   \n",
      "1                      False                    False   \n",
      "2                      False                    False   \n",
      "3                      False                    False   \n",
      "4                      False                    False   \n",
      "\n",
      "   JobRole_Sales Associate  JobRole_Software Engineer  \n",
      "0                     True                      False  \n",
      "1                    False                       True  \n",
      "2                    False                      False  \n",
      "3                    False                      False  \n",
      "4                    False                      False  \n",
      "\n",
      "[5 rows x 48 columns]\n"
     ]
    }
   ],
   "source": [
    "print(data.head())"
   ]
  },
  {
   "cell_type": "code",
   "execution_count": 48,
   "id": "61e4932c-fd8d-404d-9aa1-cc1dde2e1660",
   "metadata": {},
   "outputs": [
    {
     "name": "stdout",
     "output_type": "stream",
     "text": [
      "Selected features based on correlation > 0.3:\n",
      "['BurnoutRisk']\n"
     ]
    }
   ],
   "source": [
    "correlation_matrix = data.corr(numeric_only=True)\n",
    "target_corr = correlation_matrix[\"BurnoutLevel\"].abs()\n",
    "selected_features = target_corr[target_corr > 0.3].index.tolist()\n",
    "if \"BurnoutLevel\" in selected_features:\n",
    "    selected_features.remove(\"BurnoutLevel\")\n",
    "print(\"Selected features based on correlation > 0.3:\")\n",
    "print(selected_features)\n",
    "selected_data = data[selected_features + [\"BurnoutLevel\"]]\n",
    "selected_data.to_csv(\"selected_features_by_correlation.csv\", index=False)\n"
   ]
  },
  {
   "cell_type": "code",
   "execution_count": 49,
   "id": "b51d362b-a978-44dc-a799-e4ca09ef03dc",
   "metadata": {},
   "outputs": [
    {
     "name": "stdout",
     "output_type": "stream",
     "text": [
      "                      Feature  MI Score\n",
      "18                BurnoutRisk  0.634802\n",
      "15       WorkLifeBalanceScore  0.031137\n",
      "16                   TeamSize  0.018099\n",
      "14                SalaryRange  0.015427\n",
      "24         Department_Support  0.012446\n",
      "1                         Age  0.009797\n",
      "22       Department_Marketing  0.008911\n",
      "0                  EmployeeID  0.007862\n",
      "21              Department_IT  0.006526\n",
      "28              Gender_Female  0.005832\n",
      "43  JobRole_Marketing Manager  0.004647\n",
      "46  JobRole_Software Engineer  0.004459\n",
      "32          Country_Australia  0.003671\n",
      "41      JobRole_HR Specialist  0.003583\n",
      "38                Country_USA  0.003554\n",
      "10     HasMentalHealthSupport  0.003335\n",
      "7                  SleepHours  0.003119\n",
      "36              Country_India  0.002688\n",
      "42           JobRole_IT Admin  0.002092\n",
      "45    JobRole_Sales Associate  0.002048\n",
      "40     JobRole_Data Scientist  0.001876\n",
      "9                 CommuteTime  0.001688\n",
      "35            Country_Germany  0.001154\n",
      "34             Country_Canada  0.000498\n",
      "31   Gender_Prefer not to say  0.000480\n",
      "3            WorkHoursPerWeek  0.000000\n",
      "12           HasTherapyAccess  0.000000\n",
      "11        ManagerSupportScore  0.000000\n",
      "2              YearsAtCompany  0.000000\n",
      "4             JobSatisfaction  0.000000\n",
      "5                 StressLevel  0.000000\n",
      "6           ProductivityScore  0.000000\n",
      "8         PhysicalActivityHrs  0.000000\n",
      "13        MentalHealthDaysOff  0.000000\n",
      "29                Gender_Male  0.000000\n",
      "26              RemoteWork_No  0.000000\n",
      "27             RemoteWork_Yes  0.000000\n",
      "25          RemoteWork_Hybrid  0.000000\n",
      "19     Department_Engineering  0.000000\n",
      "17          CareerGrowthScore  0.000000\n",
      "23           Department_Sales  0.000000\n",
      "20              Department_HR  0.000000\n",
      "30          Gender_Non-binary  0.000000\n",
      "33             Country_Brazil  0.000000\n",
      "37                 Country_UK  0.000000\n",
      "39   JobRole_Customer Support  0.000000\n",
      "44    JobRole_Project Manager  0.000000\n",
      "47               Stress_Sleep  0.000000\n",
      "48          Work_Satisfaction  0.000000\n"
     ]
    }
   ],
   "source": [
    "import pandas as pd\n",
    "from sklearn.feature_selection import mutual_info_regression\n",
    "from sklearn.preprocessing import LabelEncoder\n",
    "X = data.drop(columns=['BurnoutLevel'])   \n",
    "y = data['BurnoutLevel']                \n",
    "X_encoded = X.copy()\n",
    "for col in X_encoded.select_dtypes(include=['object', 'category']).columns:\n",
    "    le = LabelEncoder()\n",
    "    X_encoded[col] = le.fit_transform(X_encoded[col])\n",
    "mi_scores = mutual_info_regression(X_encoded, y, discrete_features='auto', random_state=42)\n",
    "mi_df = pd.DataFrame({'Feature': X_encoded.columns, 'MI Score': mi_scores})\n",
    "mi_df = mi_df.sort_values(by='MI Score', ascending=False)\n",
    "print(mi_df)\n"
   ]
  },
  {
   "cell_type": "code",
   "execution_count": 50,
   "id": "e7705149-1490-4a21-be73-c91844f8a8a2",
   "metadata": {},
   "outputs": [],
   "source": [
    "data = data.replace({True: 1, False: 0})\n"
   ]
  },
  {
   "cell_type": "code",
   "execution_count": 51,
   "id": "00f62ad7-3661-47e9-9604-bfe39dfc01ba",
   "metadata": {},
   "outputs": [
    {
     "ename": "ValueError",
     "evalue": "could not convert string to float: 'No'",
     "output_type": "error",
     "traceback": [
      "\u001b[1;31m---------------------------------------------------------------------------\u001b[0m",
      "\u001b[1;31mValueError\u001b[0m                                Traceback (most recent call last)",
      "\u001b[1;32m~\\AppData\\Local\\Temp\\ipykernel_26656\\2338461445.py\u001b[0m in \u001b[0;36m?\u001b[1;34m()\u001b[0m\n\u001b[0;32m      1\u001b[0m \u001b[1;32mfrom\u001b[0m \u001b[0msklearn\u001b[0m\u001b[1;33m.\u001b[0m\u001b[0mfeature_selection\u001b[0m \u001b[1;32mimport\u001b[0m \u001b[0mmutual_info_regression\u001b[0m\u001b[1;33m\u001b[0m\u001b[1;33m\u001b[0m\u001b[0m\n\u001b[0;32m      2\u001b[0m \u001b[1;32mimport\u001b[0m \u001b[0mpandas\u001b[0m \u001b[1;32mas\u001b[0m \u001b[0mpd\u001b[0m\u001b[1;33m\u001b[0m\u001b[1;33m\u001b[0m\u001b[0m\n\u001b[0;32m      3\u001b[0m \u001b[0my\u001b[0m \u001b[1;33m=\u001b[0m \u001b[0mdata\u001b[0m\u001b[1;33m[\u001b[0m\u001b[1;34m'BurnoutLevel'\u001b[0m\u001b[1;33m]\u001b[0m\u001b[1;33m\u001b[0m\u001b[1;33m\u001b[0m\u001b[0m\n\u001b[1;32m----> 4\u001b[1;33m \u001b[0mmi_scores\u001b[0m \u001b[1;33m=\u001b[0m \u001b[0mmutual_info_regression\u001b[0m\u001b[1;33m(\u001b[0m\u001b[0mX\u001b[0m\u001b[1;33m,\u001b[0m \u001b[0my\u001b[0m\u001b[1;33m,\u001b[0m \u001b[0mrandom_state\u001b[0m\u001b[1;33m=\u001b[0m\u001b[1;36m42\u001b[0m\u001b[1;33m)\u001b[0m\u001b[1;33m\u001b[0m\u001b[1;33m\u001b[0m\u001b[0m\n\u001b[0m\u001b[0;32m      5\u001b[0m \u001b[0mmi_df\u001b[0m \u001b[1;33m=\u001b[0m \u001b[0mpd\u001b[0m\u001b[1;33m.\u001b[0m\u001b[0mDataFrame\u001b[0m\u001b[1;33m(\u001b[0m\u001b[1;33m{\u001b[0m\u001b[1;34m'Feature'\u001b[0m\u001b[1;33m:\u001b[0m \u001b[0mX\u001b[0m\u001b[1;33m.\u001b[0m\u001b[0mcolumns\u001b[0m\u001b[1;33m,\u001b[0m \u001b[1;34m'MI Score'\u001b[0m\u001b[1;33m:\u001b[0m \u001b[0mmi_scores\u001b[0m\u001b[1;33m}\u001b[0m\u001b[1;33m)\u001b[0m\u001b[1;33m\u001b[0m\u001b[1;33m\u001b[0m\u001b[0m\n\u001b[0;32m      6\u001b[0m \u001b[0mmi_df\u001b[0m \u001b[1;33m=\u001b[0m \u001b[0mmi_df\u001b[0m\u001b[1;33m.\u001b[0m\u001b[0msort_values\u001b[0m\u001b[1;33m(\u001b[0m\u001b[0mby\u001b[0m\u001b[1;33m=\u001b[0m\u001b[1;34m'MI Score'\u001b[0m\u001b[1;33m,\u001b[0m \u001b[0mascending\u001b[0m\u001b[1;33m=\u001b[0m\u001b[1;32mFalse\u001b[0m\u001b[1;33m)\u001b[0m\u001b[1;33m\u001b[0m\u001b[1;33m\u001b[0m\u001b[0m\n\u001b[0;32m      7\u001b[0m \u001b[0mprint\u001b[0m\u001b[1;33m(\u001b[0m\u001b[0mmi_df\u001b[0m\u001b[1;33m)\u001b[0m\u001b[1;33m\u001b[0m\u001b[1;33m\u001b[0m\u001b[0m\n",
      "\u001b[1;32m~\\anaconda3\\Lib\\site-packages\\sklearn\\utils\\_param_validation.py\u001b[0m in \u001b[0;36m?\u001b[1;34m(*args, **kwargs)\u001b[0m\n\u001b[0;32m    213\u001b[0m                         \u001b[0mprefer_skip_nested_validation\u001b[0m \u001b[1;32mor\u001b[0m \u001b[0mglobal_skip_validation\u001b[0m\u001b[1;33m\u001b[0m\u001b[1;33m\u001b[0m\u001b[0m\n\u001b[0;32m    214\u001b[0m                     \u001b[1;33m)\u001b[0m\u001b[1;33m\u001b[0m\u001b[1;33m\u001b[0m\u001b[0m\n\u001b[0;32m    215\u001b[0m                 \u001b[1;33m)\u001b[0m\u001b[1;33m:\u001b[0m\u001b[1;33m\u001b[0m\u001b[1;33m\u001b[0m\u001b[0m\n\u001b[0;32m    216\u001b[0m                     \u001b[1;32mreturn\u001b[0m \u001b[0mfunc\u001b[0m\u001b[1;33m(\u001b[0m\u001b[1;33m*\u001b[0m\u001b[0margs\u001b[0m\u001b[1;33m,\u001b[0m \u001b[1;33m**\u001b[0m\u001b[0mkwargs\u001b[0m\u001b[1;33m)\u001b[0m\u001b[1;33m\u001b[0m\u001b[1;33m\u001b[0m\u001b[0m\n\u001b[1;32m--> 217\u001b[1;33m             \u001b[1;32mexcept\u001b[0m \u001b[0mInvalidParameterError\u001b[0m \u001b[1;32mas\u001b[0m \u001b[0me\u001b[0m\u001b[1;33m:\u001b[0m\u001b[1;33m\u001b[0m\u001b[1;33m\u001b[0m\u001b[0m\n\u001b[0m\u001b[0;32m    218\u001b[0m                 \u001b[1;31m# When the function is just a wrapper around an estimator, we allow\u001b[0m\u001b[1;33m\u001b[0m\u001b[1;33m\u001b[0m\u001b[0m\n\u001b[0;32m    219\u001b[0m                 \u001b[1;31m# the function to delegate validation to the estimator, but we replace\u001b[0m\u001b[1;33m\u001b[0m\u001b[1;33m\u001b[0m\u001b[0m\n\u001b[0;32m    220\u001b[0m                 \u001b[1;31m# the name of the estimator by the name of the function in the error\u001b[0m\u001b[1;33m\u001b[0m\u001b[1;33m\u001b[0m\u001b[0m\n",
      "\u001b[1;32m~\\anaconda3\\Lib\\site-packages\\sklearn\\feature_selection\\_mutual_info.py\u001b[0m in \u001b[0;36m?\u001b[1;34m(X, y, discrete_features, n_neighbors, copy, random_state, n_jobs)\u001b[0m\n\u001b[0;32m    437\u001b[0m     \u001b[1;33m...\u001b[0m \u001b[1;33m)\u001b[0m\u001b[1;33m\u001b[0m\u001b[1;33m\u001b[0m\u001b[0m\n\u001b[0;32m    438\u001b[0m     \u001b[1;33m>>\u001b[0m\u001b[1;33m>\u001b[0m \u001b[0mmutual_info_regression\u001b[0m\u001b[1;33m(\u001b[0m\u001b[0mX\u001b[0m\u001b[1;33m,\u001b[0m \u001b[0my\u001b[0m\u001b[1;33m)\u001b[0m\u001b[1;33m\u001b[0m\u001b[1;33m\u001b[0m\u001b[0m\n\u001b[0;32m    439\u001b[0m     \u001b[0marray\u001b[0m\u001b[1;33m(\u001b[0m\u001b[1;33m[\u001b[0m\u001b[1;36m0.1\u001b[0m\u001b[1;33m...\u001b[0m\u001b[1;33m,\u001b[0m \u001b[1;36m2.6\u001b[0m\u001b[1;33m...\u001b[0m  \u001b[1;33m,\u001b[0m \u001b[1;36m0.0\u001b[0m\u001b[1;33m...\u001b[0m\u001b[1;33m]\u001b[0m\u001b[1;33m)\u001b[0m\u001b[1;33m\u001b[0m\u001b[1;33m\u001b[0m\u001b[0m\n\u001b[0;32m    440\u001b[0m     \"\"\"\n\u001b[1;32m--> 441\u001b[1;33m     return _estimate_mi(\n\u001b[0m\u001b[0;32m    442\u001b[0m         \u001b[0mX\u001b[0m\u001b[1;33m,\u001b[0m\u001b[1;33m\u001b[0m\u001b[1;33m\u001b[0m\u001b[0m\n\u001b[0;32m    443\u001b[0m         \u001b[0my\u001b[0m\u001b[1;33m,\u001b[0m\u001b[1;33m\u001b[0m\u001b[1;33m\u001b[0m\u001b[0m\n\u001b[0;32m    444\u001b[0m         \u001b[0mdiscrete_features\u001b[0m\u001b[1;33m=\u001b[0m\u001b[0mdiscrete_features\u001b[0m\u001b[1;33m,\u001b[0m\u001b[1;33m\u001b[0m\u001b[1;33m\u001b[0m\u001b[0m\n",
      "\u001b[1;32m~\\anaconda3\\Lib\\site-packages\\sklearn\\feature_selection\\_mutual_info.py\u001b[0m in \u001b[0;36m?\u001b[1;34m(X, y, discrete_features, discrete_target, n_neighbors, copy, random_state, n_jobs)\u001b[0m\n\u001b[0;32m    267\u001b[0m            information\". Phys. Rev. E 69, 2004.\n\u001b[0;32m    268\u001b[0m     .. [2] B. C. Ross \"Mutual Information between Discrete and Continuous\n\u001b[0;32m    269\u001b[0m            Data Sets\". PLoS ONE 9(2), 2014.\n\u001b[0;32m    270\u001b[0m     \"\"\"\n\u001b[1;32m--> 271\u001b[1;33m     \u001b[0mX\u001b[0m\u001b[1;33m,\u001b[0m \u001b[0my\u001b[0m \u001b[1;33m=\u001b[0m \u001b[0mcheck_X_y\u001b[0m\u001b[1;33m(\u001b[0m\u001b[0mX\u001b[0m\u001b[1;33m,\u001b[0m \u001b[0my\u001b[0m\u001b[1;33m,\u001b[0m \u001b[0maccept_sparse\u001b[0m\u001b[1;33m=\u001b[0m\u001b[1;34m\"csc\"\u001b[0m\u001b[1;33m,\u001b[0m \u001b[0my_numeric\u001b[0m\u001b[1;33m=\u001b[0m\u001b[1;32mnot\u001b[0m \u001b[0mdiscrete_target\u001b[0m\u001b[1;33m)\u001b[0m\u001b[1;33m\u001b[0m\u001b[1;33m\u001b[0m\u001b[0m\n\u001b[0m\u001b[0;32m    272\u001b[0m     \u001b[0mn_samples\u001b[0m\u001b[1;33m,\u001b[0m \u001b[0mn_features\u001b[0m \u001b[1;33m=\u001b[0m \u001b[0mX\u001b[0m\u001b[1;33m.\u001b[0m\u001b[0mshape\u001b[0m\u001b[1;33m\u001b[0m\u001b[1;33m\u001b[0m\u001b[0m\n\u001b[0;32m    273\u001b[0m \u001b[1;33m\u001b[0m\u001b[0m\n\u001b[0;32m    274\u001b[0m     \u001b[1;32mif\u001b[0m \u001b[0misinstance\u001b[0m\u001b[1;33m(\u001b[0m\u001b[0mdiscrete_features\u001b[0m\u001b[1;33m,\u001b[0m \u001b[1;33m(\u001b[0m\u001b[0mstr\u001b[0m\u001b[1;33m,\u001b[0m \u001b[0mbool\u001b[0m\u001b[1;33m)\u001b[0m\u001b[1;33m)\u001b[0m\u001b[1;33m:\u001b[0m\u001b[1;33m\u001b[0m\u001b[1;33m\u001b[0m\u001b[0m\n",
      "\u001b[1;32m~\\anaconda3\\Lib\\site-packages\\sklearn\\utils\\validation.py\u001b[0m in \u001b[0;36m?\u001b[1;34m(X, y, accept_sparse, accept_large_sparse, dtype, order, copy, force_writeable, force_all_finite, ensure_all_finite, ensure_2d, allow_nd, multi_output, ensure_min_samples, ensure_min_features, y_numeric, estimator)\u001b[0m\n\u001b[0;32m   1366\u001b[0m         \u001b[1;33m)\u001b[0m\u001b[1;33m\u001b[0m\u001b[1;33m\u001b[0m\u001b[0m\n\u001b[0;32m   1367\u001b[0m \u001b[1;33m\u001b[0m\u001b[0m\n\u001b[0;32m   1368\u001b[0m     \u001b[0mensure_all_finite\u001b[0m \u001b[1;33m=\u001b[0m \u001b[0m_deprecate_force_all_finite\u001b[0m\u001b[1;33m(\u001b[0m\u001b[0mforce_all_finite\u001b[0m\u001b[1;33m,\u001b[0m \u001b[0mensure_all_finite\u001b[0m\u001b[1;33m)\u001b[0m\u001b[1;33m\u001b[0m\u001b[1;33m\u001b[0m\u001b[0m\n\u001b[0;32m   1369\u001b[0m \u001b[1;33m\u001b[0m\u001b[0m\n\u001b[1;32m-> 1370\u001b[1;33m     X = check_array(\n\u001b[0m\u001b[0;32m   1371\u001b[0m         \u001b[0mX\u001b[0m\u001b[1;33m,\u001b[0m\u001b[1;33m\u001b[0m\u001b[1;33m\u001b[0m\u001b[0m\n\u001b[0;32m   1372\u001b[0m         \u001b[0maccept_sparse\u001b[0m\u001b[1;33m=\u001b[0m\u001b[0maccept_sparse\u001b[0m\u001b[1;33m,\u001b[0m\u001b[1;33m\u001b[0m\u001b[1;33m\u001b[0m\u001b[0m\n\u001b[0;32m   1373\u001b[0m         \u001b[0maccept_large_sparse\u001b[0m\u001b[1;33m=\u001b[0m\u001b[0maccept_large_sparse\u001b[0m\u001b[1;33m,\u001b[0m\u001b[1;33m\u001b[0m\u001b[1;33m\u001b[0m\u001b[0m\n",
      "\u001b[1;32m~\\anaconda3\\Lib\\site-packages\\sklearn\\utils\\validation.py\u001b[0m in \u001b[0;36m?\u001b[1;34m(array, accept_sparse, accept_large_sparse, dtype, order, copy, force_writeable, force_all_finite, ensure_all_finite, ensure_non_negative, ensure_2d, allow_nd, ensure_min_samples, ensure_min_features, estimator, input_name)\u001b[0m\n\u001b[0;32m   1052\u001b[0m                         \u001b[1;33m)\u001b[0m\u001b[1;33m\u001b[0m\u001b[1;33m\u001b[0m\u001b[0m\n\u001b[0;32m   1053\u001b[0m                     \u001b[0marray\u001b[0m \u001b[1;33m=\u001b[0m \u001b[0mxp\u001b[0m\u001b[1;33m.\u001b[0m\u001b[0mastype\u001b[0m\u001b[1;33m(\u001b[0m\u001b[0marray\u001b[0m\u001b[1;33m,\u001b[0m \u001b[0mdtype\u001b[0m\u001b[1;33m,\u001b[0m \u001b[0mcopy\u001b[0m\u001b[1;33m=\u001b[0m\u001b[1;32mFalse\u001b[0m\u001b[1;33m)\u001b[0m\u001b[1;33m\u001b[0m\u001b[1;33m\u001b[0m\u001b[0m\n\u001b[0;32m   1054\u001b[0m                 \u001b[1;32melse\u001b[0m\u001b[1;33m:\u001b[0m\u001b[1;33m\u001b[0m\u001b[1;33m\u001b[0m\u001b[0m\n\u001b[0;32m   1055\u001b[0m                     \u001b[0marray\u001b[0m \u001b[1;33m=\u001b[0m \u001b[0m_asarray_with_order\u001b[0m\u001b[1;33m(\u001b[0m\u001b[0marray\u001b[0m\u001b[1;33m,\u001b[0m \u001b[0morder\u001b[0m\u001b[1;33m=\u001b[0m\u001b[0morder\u001b[0m\u001b[1;33m,\u001b[0m \u001b[0mdtype\u001b[0m\u001b[1;33m=\u001b[0m\u001b[0mdtype\u001b[0m\u001b[1;33m,\u001b[0m \u001b[0mxp\u001b[0m\u001b[1;33m=\u001b[0m\u001b[0mxp\u001b[0m\u001b[1;33m)\u001b[0m\u001b[1;33m\u001b[0m\u001b[1;33m\u001b[0m\u001b[0m\n\u001b[1;32m-> 1056\u001b[1;33m             \u001b[1;32mexcept\u001b[0m \u001b[0mComplexWarning\u001b[0m \u001b[1;32mas\u001b[0m \u001b[0mcomplex_warning\u001b[0m\u001b[1;33m:\u001b[0m\u001b[1;33m\u001b[0m\u001b[1;33m\u001b[0m\u001b[0m\n\u001b[0m\u001b[0;32m   1057\u001b[0m                 raise ValueError(\n\u001b[0;32m   1058\u001b[0m                     \u001b[1;34m\"Complex data not supported\\n{}\\n\"\u001b[0m\u001b[1;33m.\u001b[0m\u001b[0mformat\u001b[0m\u001b[1;33m(\u001b[0m\u001b[0marray\u001b[0m\u001b[1;33m)\u001b[0m\u001b[1;33m\u001b[0m\u001b[1;33m\u001b[0m\u001b[0m\n\u001b[0;32m   1059\u001b[0m                 \u001b[1;33m)\u001b[0m \u001b[1;32mfrom\u001b[0m \u001b[0mcomplex_warning\u001b[0m\u001b[1;33m\u001b[0m\u001b[1;33m\u001b[0m\u001b[0m\n",
      "\u001b[1;32m~\\anaconda3\\Lib\\site-packages\\sklearn\\utils\\_array_api.py\u001b[0m in \u001b[0;36m?\u001b[1;34m(array, dtype, order, copy, xp, device)\u001b[0m\n\u001b[0;32m    835\u001b[0m         \u001b[1;31m# Use NumPy API to support order\u001b[0m\u001b[1;33m\u001b[0m\u001b[1;33m\u001b[0m\u001b[0m\n\u001b[0;32m    836\u001b[0m         \u001b[1;32mif\u001b[0m \u001b[0mcopy\u001b[0m \u001b[1;32mis\u001b[0m \u001b[1;32mTrue\u001b[0m\u001b[1;33m:\u001b[0m\u001b[1;33m\u001b[0m\u001b[1;33m\u001b[0m\u001b[0m\n\u001b[0;32m    837\u001b[0m             \u001b[0marray\u001b[0m \u001b[1;33m=\u001b[0m \u001b[0mnumpy\u001b[0m\u001b[1;33m.\u001b[0m\u001b[0marray\u001b[0m\u001b[1;33m(\u001b[0m\u001b[0marray\u001b[0m\u001b[1;33m,\u001b[0m \u001b[0morder\u001b[0m\u001b[1;33m=\u001b[0m\u001b[0morder\u001b[0m\u001b[1;33m,\u001b[0m \u001b[0mdtype\u001b[0m\u001b[1;33m=\u001b[0m\u001b[0mdtype\u001b[0m\u001b[1;33m)\u001b[0m\u001b[1;33m\u001b[0m\u001b[1;33m\u001b[0m\u001b[0m\n\u001b[0;32m    838\u001b[0m         \u001b[1;32melse\u001b[0m\u001b[1;33m:\u001b[0m\u001b[1;33m\u001b[0m\u001b[1;33m\u001b[0m\u001b[0m\n\u001b[1;32m--> 839\u001b[1;33m             \u001b[0marray\u001b[0m \u001b[1;33m=\u001b[0m \u001b[0mnumpy\u001b[0m\u001b[1;33m.\u001b[0m\u001b[0masarray\u001b[0m\u001b[1;33m(\u001b[0m\u001b[0marray\u001b[0m\u001b[1;33m,\u001b[0m \u001b[0morder\u001b[0m\u001b[1;33m=\u001b[0m\u001b[0morder\u001b[0m\u001b[1;33m,\u001b[0m \u001b[0mdtype\u001b[0m\u001b[1;33m=\u001b[0m\u001b[0mdtype\u001b[0m\u001b[1;33m)\u001b[0m\u001b[1;33m\u001b[0m\u001b[1;33m\u001b[0m\u001b[0m\n\u001b[0m\u001b[0;32m    840\u001b[0m \u001b[1;33m\u001b[0m\u001b[0m\n\u001b[0;32m    841\u001b[0m         \u001b[1;31m# At this point array is a NumPy ndarray. We convert it to an array\u001b[0m\u001b[1;33m\u001b[0m\u001b[1;33m\u001b[0m\u001b[0m\n\u001b[0;32m    842\u001b[0m         \u001b[1;31m# container that is consistent with the input's namespace.\u001b[0m\u001b[1;33m\u001b[0m\u001b[1;33m\u001b[0m\u001b[0m\n",
      "\u001b[1;32m~\\anaconda3\\Lib\\site-packages\\pandas\\core\\generic.py\u001b[0m in \u001b[0;36m?\u001b[1;34m(self, dtype, copy)\u001b[0m\n\u001b[0;32m   2149\u001b[0m     def __array__(\n\u001b[0;32m   2150\u001b[0m         \u001b[0mself\u001b[0m\u001b[1;33m,\u001b[0m \u001b[0mdtype\u001b[0m\u001b[1;33m:\u001b[0m \u001b[0mnpt\u001b[0m\u001b[1;33m.\u001b[0m\u001b[0mDTypeLike\u001b[0m \u001b[1;33m|\u001b[0m \u001b[1;32mNone\u001b[0m \u001b[1;33m=\u001b[0m \u001b[1;32mNone\u001b[0m\u001b[1;33m,\u001b[0m \u001b[0mcopy\u001b[0m\u001b[1;33m:\u001b[0m \u001b[0mbool_t\u001b[0m \u001b[1;33m|\u001b[0m \u001b[1;32mNone\u001b[0m \u001b[1;33m=\u001b[0m \u001b[1;32mNone\u001b[0m\u001b[1;33m\u001b[0m\u001b[1;33m\u001b[0m\u001b[0m\n\u001b[0;32m   2151\u001b[0m     \u001b[1;33m)\u001b[0m \u001b[1;33m->\u001b[0m \u001b[0mnp\u001b[0m\u001b[1;33m.\u001b[0m\u001b[0mndarray\u001b[0m\u001b[1;33m:\u001b[0m\u001b[1;33m\u001b[0m\u001b[1;33m\u001b[0m\u001b[0m\n\u001b[0;32m   2152\u001b[0m         \u001b[0mvalues\u001b[0m \u001b[1;33m=\u001b[0m \u001b[0mself\u001b[0m\u001b[1;33m.\u001b[0m\u001b[0m_values\u001b[0m\u001b[1;33m\u001b[0m\u001b[1;33m\u001b[0m\u001b[0m\n\u001b[1;32m-> 2153\u001b[1;33m         \u001b[0marr\u001b[0m \u001b[1;33m=\u001b[0m \u001b[0mnp\u001b[0m\u001b[1;33m.\u001b[0m\u001b[0masarray\u001b[0m\u001b[1;33m(\u001b[0m\u001b[0mvalues\u001b[0m\u001b[1;33m,\u001b[0m \u001b[0mdtype\u001b[0m\u001b[1;33m=\u001b[0m\u001b[0mdtype\u001b[0m\u001b[1;33m)\u001b[0m\u001b[1;33m\u001b[0m\u001b[1;33m\u001b[0m\u001b[0m\n\u001b[0m\u001b[0;32m   2154\u001b[0m         if (\n\u001b[0;32m   2155\u001b[0m             \u001b[0mastype_is_view\u001b[0m\u001b[1;33m(\u001b[0m\u001b[0mvalues\u001b[0m\u001b[1;33m.\u001b[0m\u001b[0mdtype\u001b[0m\u001b[1;33m,\u001b[0m \u001b[0marr\u001b[0m\u001b[1;33m.\u001b[0m\u001b[0mdtype\u001b[0m\u001b[1;33m)\u001b[0m\u001b[1;33m\u001b[0m\u001b[1;33m\u001b[0m\u001b[0m\n\u001b[0;32m   2156\u001b[0m             \u001b[1;32mand\u001b[0m \u001b[0musing_copy_on_write\u001b[0m\u001b[1;33m(\u001b[0m\u001b[1;33m)\u001b[0m\u001b[1;33m\u001b[0m\u001b[1;33m\u001b[0m\u001b[0m\n",
      "\u001b[1;31mValueError\u001b[0m: could not convert string to float: 'No'"
     ]
    }
   ],
   "source": [
    "from sklearn.feature_selection import mutual_info_regression\n",
    "import pandas as pd\n",
    "y = data['BurnoutLevel']  \n",
    "mi_scores = mutual_info_regression(X, y, random_state=42)\n",
    "mi_df = pd.DataFrame({'Feature': X.columns, 'MI Score': mi_scores})\n",
    "mi_df = mi_df.sort_values(by='MI Score', ascending=False)\n",
    "print(mi_df)\n"
   ]
  },
  {
   "cell_type": "code",
   "execution_count": 52,
   "id": "aa894b49-6df2-41c1-a2e3-290a9e03261b",
   "metadata": {},
   "outputs": [
    {
     "name": "stdout",
     "output_type": "stream",
     "text": [
      "['EmployeeID', 'Age', 'YearsAtCompany', 'WorkHoursPerWeek', 'BurnoutLevel', 'JobSatisfaction', 'StressLevel', 'ProductivityScore', 'SleepHours', 'PhysicalActivityHrs', 'CommuteTime', 'HasMentalHealthSupport', 'ManagerSupportScore', 'HasTherapyAccess', 'MentalHealthDaysOff', 'SalaryRange', 'WorkLifeBalanceScore', 'TeamSize', 'CareerGrowthScore', 'BurnoutRisk', 'Department_Engineering', 'Department_HR', 'Department_IT', 'Department_Marketing', 'Department_Sales', 'Department_Support', 'RemoteWork_Hybrid', 'RemoteWork_No', 'RemoteWork_Yes', 'Gender_Female', 'Gender_Male', 'Gender_Non-binary', 'Gender_Prefer not to say', 'Country_Australia', 'Country_Brazil', 'Country_Canada', 'Country_Germany', 'Country_India', 'Country_UK', 'Country_USA', 'JobRole_Customer Support', 'JobRole_Data Scientist', 'JobRole_HR Specialist', 'JobRole_IT Admin', 'JobRole_Marketing Manager', 'JobRole_Project Manager', 'JobRole_Sales Associate', 'JobRole_Software Engineer', 'Stress_Sleep', 'Work_Satisfaction']\n"
     ]
    }
   ],
   "source": [
    "\n",
    "print(data.columns.tolist())\n"
   ]
  },
  {
   "cell_type": "code",
   "execution_count": 53,
   "id": "24a56a38-0e15-4689-9b4b-a3179393582b",
   "metadata": {},
   "outputs": [
    {
     "name": "stdout",
     "output_type": "stream",
     "text": [
      "   Stress_Sleep  Work_Satisfaction\n",
      "0        66.290             237.82\n",
      "1        40.680             118.00\n",
      "2        29.640             423.03\n",
      "3        55.680             116.56\n",
      "4        14.322              79.56\n"
     ]
    }
   ],
   "source": [
    "data['Stress_Sleep'] = data['StressLevel'] * data['SleepHours']\n",
    "data['Work_Satisfaction'] = data['WorkHoursPerWeek'] * data['JobSatisfaction']\n",
    "print(data[['Stress_Sleep', 'Work_Satisfaction']].head())\n"
   ]
  },
  {
   "cell_type": "code",
   "execution_count": 54,
   "id": "9216ea4e-eeac-45a0-bbd9-75df216a234d",
   "metadata": {},
   "outputs": [
    {
     "name": "stdout",
     "output_type": "stream",
     "text": [
      "0 0\n"
     ]
    }
   ],
   "source": [
    "y = data['StressLevel']\n",
    "X = data.drop(columns=['StressLevel', 'EmployeeID']) \n",
    "print(X.isnull().sum().sum(), y.isnull().sum())  \n"
   ]
  },
  {
   "cell_type": "code",
   "execution_count": 55,
   "id": "7d569184-c3ac-4e7b-8298-eb3aef5a5bf4",
   "metadata": {},
   "outputs": [
    {
     "name": "stdout",
     "output_type": "stream",
     "text": [
      "Index(['HasMentalHealthSupport', 'HasTherapyAccess'], dtype='object')\n"
     ]
    }
   ],
   "source": [
    "print(X.select_dtypes(include='object').columns)\n",
    "X = pd.get_dummies(X, drop_first=True)\n"
   ]
  },
  {
   "cell_type": "code",
   "execution_count": 56,
   "id": "4760d259-bf81-4e86-aee3-47f92e25842f",
   "metadata": {},
   "outputs": [],
   "source": [
    "from sklearn.model_selection import train_test_split\n",
    "\n",
    "X_train, X_test, y_train, y_test = train_test_split(X, y, test_size=0.2, random_state=42)\n"
   ]
  },
  {
   "cell_type": "code",
   "execution_count": 57,
   "id": "d149a18d-17dc-4d68-9400-5b3332746543",
   "metadata": {},
   "outputs": [],
   "source": [
    "from sklearn.preprocessing import StandardScaler\n",
    "\n",
    "scaler = StandardScaler()\n",
    "X_train_scaled = scaler.fit_transform(X_train)\n",
    "X_test_scaled = scaler.transform(X_test)\n"
   ]
  },
  {
   "cell_type": "code",
   "execution_count": 58,
   "id": "11e06715-4751-4b60-bf66-c01976767ff9",
   "metadata": {},
   "outputs": [
    {
     "name": "stdout",
     "output_type": "stream",
     "text": [
      "Linear Regression\n",
      "R2 Score: 0.9520749306214557\n",
      "MSE: 0.3173796820206768\n"
     ]
    }
   ],
   "source": [
    "from sklearn.linear_model import LinearRegression\n",
    "from sklearn.metrics import mean_squared_error, r2_score\n",
    "\n",
    "lr = LinearRegression()\n",
    "lr.fit(X_train_scaled, y_train)\n",
    "y_pred_lr = lr.predict(X_test_scaled)\n",
    "\n",
    "print(\"Linear Regression\")\n",
    "print(\"R2 Score:\", r2_score(y_test, y_pred_lr))\n",
    "print(\"MSE:\", mean_squared_error(y_test, y_pred_lr))\n"
   ]
  },
  {
   "cell_type": "code",
   "execution_count": 59,
   "id": "d379b095-d1e5-420d-8621-3af5e3abe429",
   "metadata": {},
   "outputs": [
    {
     "name": "stdout",
     "output_type": "stream",
     "text": [
      "Ridge Regression\n",
      "R2 Score: 0.9520507142628427\n",
      "MSE: 0.31754005278896\n"
     ]
    }
   ],
   "source": [
    "from sklearn.linear_model import Ridge\n",
    "ridge = Ridge(alpha=1.0)\n",
    "ridge.fit(X_train_scaled, y_train)\n",
    "y_pred_ridge = ridge.predict(X_test_scaled)\n",
    "print(\"Ridge Regression\")\n",
    "print(\"R2 Score:\", r2_score(y_test, y_pred_ridge))\n",
    "print(\"MSE:\", mean_squared_error(y_test, y_pred_ridge))\n"
   ]
  },
  {
   "cell_type": "code",
   "execution_count": 60,
   "id": "97d4a321-dd7b-4c82-bd47-70a4be3feddf",
   "metadata": {},
   "outputs": [
    {
     "name": "stdout",
     "output_type": "stream",
     "text": [
      "Lasso Regression\n",
      "R2 Score: 0.9460399054438885\n",
      "MSE: 0.3573461212283897\n"
     ]
    }
   ],
   "source": [
    "from sklearn.linear_model import Lasso\n",
    "\n",
    "lasso = Lasso(alpha=0.1)\n",
    "lasso.fit(X_train_scaled, y_train)\n",
    "y_pred_lasso = lasso.predict(X_test_scaled)\n",
    "print(\"Lasso Regression\")\n",
    "print(\"R2 Score:\", r2_score(y_test, y_pred_lasso))\n",
    "print(\"MSE:\", mean_squared_error(y_test, y_pred_lasso))\n"
   ]
  },
  {
   "cell_type": "code",
   "execution_count": null,
   "id": "3ca1e61a-eaab-40aa-ac36-f4b9047f8d70",
   "metadata": {},
   "outputs": [],
   "source": [
    "#linear regression is the best as mse is also low and r^2 is high"
   ]
  },
  {
   "cell_type": "code",
   "execution_count": null,
   "id": "4f01c246-6166-4e1f-a427-fef9650beecc",
   "metadata": {},
   "outputs": [],
   "source": []
  },
  {
   "cell_type": "code",
   "execution_count": null,
   "id": "f0576465-64ea-45c0-bd21-a4663af5d1ec",
   "metadata": {},
   "outputs": [],
   "source": []
  },
  {
   "cell_type": "code",
   "execution_count": null,
   "id": "1b4ec897-267f-4387-ae68-f73635217c41",
   "metadata": {},
   "outputs": [],
   "source": []
  }
 ],
 "metadata": {
  "kernelspec": {
   "display_name": "Python 3 (ipykernel)",
   "language": "python",
   "name": "python3"
  },
  "language_info": {
   "codemirror_mode": {
    "name": "ipython",
    "version": 3
   },
   "file_extension": ".py",
   "mimetype": "text/x-python",
   "name": "python",
   "nbconvert_exporter": "python",
   "pygments_lexer": "ipython3",
   "version": "3.13.5"
  }
 },
 "nbformat": 4,
 "nbformat_minor": 5
}
