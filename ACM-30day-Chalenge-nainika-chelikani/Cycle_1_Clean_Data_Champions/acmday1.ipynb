{
 "cells": [
  {
   "cell_type": "code",
   "execution_count": 3,
   "id": "e97e94bb-5d8a-4795-837b-c71428e26369",
   "metadata": {},
   "outputs": [
    {
     "name": "stdout",
     "output_type": "stream",
     "text": [
      "      EmployeeID  Age      Gender    Country            JobRole Department  \\\n",
      "0           1001   50        Male         UK    Sales Associate         HR   \n",
      "1           1002   36        Male    Germany  Software Engineer         IT   \n",
      "2           1003   29  Non-binary      India           IT Admin         IT   \n",
      "3           1004   42        Male  Australia      HR Specialist         IT   \n",
      "4           1005   40        Male     Brazil   Customer Support    Support   \n",
      "...          ...  ...         ...        ...                ...        ...   \n",
      "2995        3996   28      Female     Brazil  Marketing Manager      Sales   \n",
      "2996        3997   24        Male     Brazil   Customer Support  Marketing   \n",
      "2997        3998   22      Female     Canada  Marketing Manager  Marketing   \n",
      "2998        3999   57  Non-binary  Australia     Data Scientist         HR   \n",
      "2999        4000   46  Non-binary      India  Software Engineer         IT   \n",
      "\n",
      "      YearsAtCompany  WorkHoursPerWeek RemoteWork  BurnoutLevel  ...  \\\n",
      "0                 14                47         No          3.37  ...   \n",
      "1                  1                59     Hybrid          7.39  ...   \n",
      "2                 13                59     Hybrid          7.10  ...   \n",
      "3                 15                31        Yes          4.18  ...   \n",
      "4                  6                34        Yes          8.28  ...   \n",
      "...              ...               ...        ...           ...  ...   \n",
      "2995              18                46         No          2.86  ...   \n",
      "2996              14                31         No          2.43  ...   \n",
      "2997               0                38         No          6.87  ...   \n",
      "2998               2                41         No          3.62  ...   \n",
      "2999              17                48         No          9.77  ...   \n",
      "\n",
      "      CommuteTime  HasMentalHealthSupport  ManagerSupportScore  \\\n",
      "0             117                      No                 3.15   \n",
      "1               8                     Yes                 4.40   \n",
      "2              75                      No                 3.63   \n",
      "3              43                     Yes                 4.50   \n",
      "4              58                     Yes                 5.51   \n",
      "...           ...                     ...                  ...   \n",
      "2995            4                     Yes                 6.97   \n",
      "2996            1                     Yes                 5.58   \n",
      "2997           25                      No                 3.81   \n",
      "2998           24                      No                 9.72   \n",
      "2999           49                      No                 8.21   \n",
      "\n",
      "      HasTherapyAccess  MentalHealthDaysOff  SalaryRange WorkLifeBalanceScore  \\\n",
      "0                  Yes                    8      40K-60K                 8.82   \n",
      "1                  Yes                    4     80K-100K                 2.80   \n",
      "2                   No                    6     80K-100K                 7.28   \n",
      "3                  Yes                    9      60K-80K                 1.31   \n",
      "4                  Yes                    6         <40K                 1.17   \n",
      "...                ...                  ...          ...                  ...   \n",
      "2995                No                    1     80K-100K                 7.71   \n",
      "2996               Yes                    0      60K-80K                 3.76   \n",
      "2997                No                    0      40K-60K                 3.03   \n",
      "2998                No                    3        100K+                 6.02   \n",
      "2999                No                    7      60K-80K                 7.89   \n",
      "\n",
      "      TeamSize CareerGrowthScore  BurnoutRisk  \n",
      "0            6              9.20            0  \n",
      "1           45              8.46            1  \n",
      "2            7              7.96            1  \n",
      "3           11              8.90            0  \n",
      "4           18              8.88            1  \n",
      "...        ...               ...          ...  \n",
      "2995        21              7.70            0  \n",
      "2996         2              2.59            0  \n",
      "2997         2              6.95            0  \n",
      "2998        37              9.06            0  \n",
      "2999        37              1.09            1  \n",
      "\n",
      "[3000 rows x 25 columns]\n"
     ]
    }
   ],
   "source": [
    "import pandas as pd\n",
    "data= pd.read_csv('Desktop/acm s3/burnout dataset/mental_health_workplace_survey.csv')\n",
    "print(data)\n"
   ]
  },
  {
   "cell_type": "code",
   "execution_count": 7,
   "id": "e02cc3a4-af86-4a02-8459-958f44cf7081",
   "metadata": {},
   "outputs": [
    {
     "data": {
      "text/plain": [
       "EmployeeID                0\n",
       "Age                       0\n",
       "Gender                    0\n",
       "Country                   0\n",
       "JobRole                   0\n",
       "Department                0\n",
       "YearsAtCompany            0\n",
       "WorkHoursPerWeek          0\n",
       "RemoteWork                0\n",
       "BurnoutLevel              0\n",
       "JobSatisfaction           0\n",
       "StressLevel               0\n",
       "ProductivityScore         0\n",
       "SleepHours                0\n",
       "PhysicalActivityHrs       0\n",
       "CommuteTime               0\n",
       "HasMentalHealthSupport    0\n",
       "ManagerSupportScore       0\n",
       "HasTherapyAccess          0\n",
       "MentalHealthDaysOff       0\n",
       "SalaryRange               0\n",
       "WorkLifeBalanceScore      0\n",
       "TeamSize                  0\n",
       "CareerGrowthScore         0\n",
       "BurnoutRisk               0\n",
       "dtype: int64"
      ]
     },
     "execution_count": 7,
     "metadata": {},
     "output_type": "execute_result"
    }
   ],
   "source": [
    "#handling missing values\n",
    "data.isnull().sum() \n",
    "##no missing values found so i got o in all columns hence dropping rows or columns is not necessary\n"
   ]
  },
  {
   "cell_type": "code",
   "execution_count": 8,
   "id": "121c4635-3240-47ce-969e-97683e7972e1",
   "metadata": {},
   "outputs": [
    {
     "data": {
      "text/plain": [
       "59"
      ]
     },
     "execution_count": 8,
     "metadata": {},
     "output_type": "execute_result"
    }
   ],
   "source": [
    "##removing outliers \n",
    "##in the dataset workhoursperweek is given so 18 hrs per day*7 i.e 126 hrs \n",
    "##so removing any row with workhoursperweek>126\n",
    "data['WorkHoursPerWeek'].max()"
   ]
  },
  {
   "cell_type": "code",
   "execution_count": 15,
   "id": "1a947dd6-3f40-4ea8-a6e3-3173807de87b",
   "metadata": {},
   "outputs": [
    {
     "ename": "SyntaxError",
     "evalue": "unterminated string literal (detected at line 10) (171230230.py, line 10)",
     "output_type": "error",
     "traceback": [
      "\u001b[1;36m  Cell \u001b[1;32mIn[15], line 10\u001b[1;36m\u001b[0m\n\u001b[1;33m    plt.scatter(x_values, sorted, color='blue', label='Employee's Work Hours')\u001b[0m\n\u001b[1;37m                                                                            ^\u001b[0m\n\u001b[1;31mSyntaxError\u001b[0m\u001b[1;31m:\u001b[0m unterminated string literal (detected at line 10)\n"
     ]
    }
   ],
   "source": [
    "#the max value is 59 which is below the 126 so no need to remove any rows\n",
    "#proving it visually\n",
    "import numpy as np\n",
    "import matplotlib.pyplot as plt\n",
    "sorted = data['WorkHoursPerWeek'].sort_values().values\n",
    "x_values = np.arange(len(sorted))\n",
    "\n",
    "# Plot\n",
    "plt.figure(figsize=(10, 5))\n",
    "plt.scatter(x_values, sorted, color='blue', label='Employee's Work Hours')\n",
    "plt.axhline(y=126, color='red', label='Outlier Threshold (126 hours/week)')\n",
    "plt.title('Work Hours Per Week', fontsize=14)\n",
    "plt.xlabel('Employee Index', fontsize=12)\n",
    "plt.ylabel('Work Hours Per Week', fontsize=12)\n",
    "plt.legend()\n",
    "plt.tight_layout()\n",
    "plt.show()\n",
    "\n"
   ]
  },
  {
   "cell_type": "code",
   "execution_count": null,
   "id": "bbf1e59f-cfa0-439d-8b35-51d9f25b3930",
   "metadata": {},
   "outputs": [],
   "source": []
  }
 ],
 "metadata": {
  "kernelspec": {
   "display_name": "Python 3 (ipykernel)",
   "language": "python",
   "name": "python3"
  },
  "language_info": {
   "codemirror_mode": {
    "name": "ipython",
    "version": 3
   },
   "file_extension": ".py",
   "mimetype": "text/x-python",
   "name": "python",
   "nbconvert_exporter": "python",
   "pygments_lexer": "ipython3",
   "version": "3.13.5"
  }
 },
 "nbformat": 4,
 "nbformat_minor": 5
}
